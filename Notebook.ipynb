{
 "cells": [
  {
   "cell_type": "code",
   "execution_count": 11,
   "metadata": {},
   "outputs": [],
   "source": [
    "import os\n",
    "import langchain\n",
    "import pinecone\n",
    "from langchain.document_loaders import PyPDFDirectoryLoader\n",
    "from langchain.text_splitter import RecursiveCharacterTextSplitter\n",
    "from langchain_pinecone import PineconeVectorStore\n",
    "from langchain_huggingface import HuggingFaceEndpoint\n",
    "from langchain_huggingface.embeddings import HuggingFaceEmbeddings\n",
    "from langchain.chains.question_answering import load_qa_chain\n",
    "from dotenv import load_dotenv"
   ]
  },
  {
   "cell_type": "code",
   "execution_count": 2,
   "metadata": {},
   "outputs": [],
   "source": [
    "load_dotenv()\n",
    "HF_TOKEN = os.getenv(\"HUGGINGFACE_API_KEY\")\n",
    "PC_KEY = os.getenv(\"PINECONE_API_KEY\")"
   ]
  },
  {
   "cell_type": "code",
   "execution_count": 3,
   "metadata": {},
   "outputs": [],
   "source": [
    "# Load pdf and split them into chunks:\n",
    "\n",
    "def load_pdfs(path='Files/'):\n",
    "    loader = PyPDFDirectoryLoader(path)\n",
    "    documents = loader.load()\n",
    "    pages = len(documents)\n",
    "    print(\"Number of pages loaded: \", pages)\n",
    "\n",
    "    text_splitter = RecursiveCharacterTextSplitter(\n",
    "        chunk_size=800,\n",
    "        chunk_overlap=50\n",
    "    )\n",
    "    texts = text_splitter.split_documents(documents)\n",
    "    return texts"
   ]
  },
  {
   "cell_type": "code",
   "execution_count": 4,
   "metadata": {},
   "outputs": [
    {
     "name": "stdout",
     "output_type": "stream",
     "text": [
      "Number of pages loaded:  112\n"
     ]
    }
   ],
   "source": [
    "doc = load_pdfs()"
   ]
  },
  {
   "cell_type": "code",
   "execution_count": 5,
   "metadata": {},
   "outputs": [
    {
     "name": "stderr",
     "output_type": "stream",
     "text": [
      "c:\\Users\\jaksh\\Desktop\\Programs\\Projects\\new\\venv\\lib\\site-packages\\huggingface_hub\\file_download.py:1132: FutureWarning: `resume_download` is deprecated and will be removed in version 1.0.0. Downloads always resume when possible. If you want to force a new download, use `force_download=True`.\n",
      "  warnings.warn(\n"
     ]
    }
   ],
   "source": [
    "model_name = \"intfloat/e5-small-v2\"\n",
    "hf_embeddings = HuggingFaceEmbeddings(\n",
    "    model_name=model_name,\n",
    "    model_kwargs={\n",
    "    \"token\":HF_TOKEN\n",
    "    }\n",
    ")"
   ]
  },
  {
   "cell_type": "code",
   "execution_count": 6,
   "metadata": {},
   "outputs": [
    {
     "name": "stdout",
     "output_type": "stream",
     "text": [
      "[-0.10857832431793213, 0.08348138630390167, 0.009349589236080647] ...\n"
     ]
    }
   ],
   "source": [
    "tests = [\"This is a test document.\", \"This is another test document.\"]\n",
    "print(hf_embeddings.embed_documents(tests)[0][:3], '...')"
   ]
  },
  {
   "cell_type": "code",
   "execution_count": 7,
   "metadata": {},
   "outputs": [
    {
     "data": {
      "text/plain": [
       "384"
      ]
     },
     "execution_count": 7,
     "metadata": {},
     "output_type": "execute_result"
    }
   ],
   "source": [
    "dims = len(hf_embeddings.embed_query(\"Test query.\"))\n",
    "dims"
   ]
  },
  {
   "cell_type": "code",
   "execution_count": 8,
   "metadata": {},
   "outputs": [
    {
     "name": "stdout",
     "output_type": "stream",
     "text": [
      "The token has not been saved to the git credentials helper. Pass `add_to_git_credential=True` in this function directly or `--add-to-git-credential` if using via `huggingface-cli` if you want to set the git credential as well.\n",
      "Token is valid (permission: write).\n",
      "Your token has been saved to C:\\Users\\jaksh\\.cache\\huggingface\\token\n",
      "Login successful\n"
     ]
    }
   ],
   "source": [
    "repo_id=\"meta-llama/Meta-Llama-3-8B-Instruct\"\n",
    "\n",
    "llm=HuggingFaceEndpoint(repo_id=repo_id,\n",
    "                        huggingfacehub_api_token=HF_TOKEN\n",
    "                        )"
   ]
  },
  {
   "cell_type": "code",
   "execution_count": 9,
   "metadata": {},
   "outputs": [
    {
     "data": {
      "text/plain": [
       "{'dimension': 384,\n",
       " 'index_fullness': 0.0,\n",
       " 'namespaces': {},\n",
       " 'total_vector_count': 0}"
      ]
     },
     "execution_count": 9,
     "metadata": {},
     "output_type": "execute_result"
    }
   ],
   "source": [
    "# VectorDB Initialization:\n",
    "\n",
    "pc = pinecone.Pinecone(api_key=PC_KEY)\n",
    "\n",
    "index_name = \"project1\"\n",
    "index = pc.Index(index_name)\n",
    "\n",
    "index.describe_index_stats()"
   ]
  },
  {
   "cell_type": "code",
   "execution_count": 10,
   "metadata": {},
   "outputs": [],
   "source": [
    "index = PineconeVectorStore.from_documents(documents=doc, embedding=hf_embeddings, index_name=index_name)"
   ]
  },
  {
   "cell_type": "code",
   "execution_count": 12,
   "metadata": {},
   "outputs": [],
   "source": [
    "chain = load_qa_chain(llm=llm, chain_type=\"stuff\")"
   ]
  },
  {
   "cell_type": "code",
   "execution_count": 13,
   "metadata": {},
   "outputs": [],
   "source": [
    "def retrieve_answers(query):\n",
    "    doc_search=index.similarity_search(query, k=2)\n",
    "    response=chain.run(input_documents=doc_search,question=query)\n",
    "    return response"
   ]
  },
  {
   "cell_type": "code",
   "execution_count": 14,
   "metadata": {},
   "outputs": [
    {
     "name": "stdout",
     "output_type": "stream",
     "text": [
      "[Document(page_content='4thly .—If the person committing the act knows that it is so imminently  dangerous that it must, in all \\nprobability, cause death, or such bodily injury as is likely to cause death, and commits such act without \\nany excuse for incurring the risk of causing dea th or such injury as aforesaid.  \\nIllustrations  \\n(a) A shoots Z with the intention of killing him. Z dies in  consequence. A commits murder.  \\n(b) A, knowing that Z is labouring under such a disease that a blow is likely to cause his death, strikes him with the intentio n \\nof causing bodily injury. Z dies in consequence of the blow.  A is guilty of murder, although the blow might not have been \\nsufficient in the ordinary course of nature to cause the death of a person in a sound state of health. But if A, not knowing that Z is', metadata={'page': 69.0, 'source': 'Files\\\\IPC_186045.pdf'}), Document(page_content=\"70 \\n Illustrations  \\n(a) A lays sticks and turf over a pit, with the intention of thereby causing death, or with the knowledge that death is likely to \\nbe thereby caused. Z, believing the ground to be firm, treads on it, falls  in and is killed. A has committed th e offence of culpable \\nhomicide.  \\n(b) A knows Z to be behind a bush. B does not know it. A, intending to cause, or knowing it to be likely to cause Z's death, \\ninduces B to fire at the bush. B fires and kills Z. Here B may  be guilty of no offence; but A has committed th e offence of culpable \\nhomicide.  \\n(c) A, by shooting at a fowl with intent to kill and steal it, kills B, who is behind a bush; A not knowing that he was there.\", metadata={'page': 69.0, 'source': 'Files\\\\IPC_186045.pdf'})]\n"
     ]
    },
    {
     "name": "stderr",
     "output_type": "stream",
     "text": [
      "c:\\Users\\jaksh\\Desktop\\Programs\\Projects\\new\\venv\\lib\\site-packages\\langchain_core\\_api\\deprecation.py:119: LangChainDeprecationWarning: The method `Chain.run` was deprecated in langchain 0.1.0 and will be removed in 0.3.0. Use invoke instead.\n",
      "  warn_deprecated(\n"
     ]
    },
    {
     "name": "stdout",
     "output_type": "stream",
     "text": [
      " Murder. According to the passage, if the person committing the act knows that it is so imminently dangerous that it must, in all probability, cause death, and commits such act without any excuse for incurring the risk of causing death, then they have committed the offence of murder. (See illustration (a)). This is in contrast to culpable homicide, which is the offence of causing death with the intention of causing death, but not knowing that death was likely to result. (See illustration (b) and (c)). Therefore, the correct answer is Murder. Note that the passage does not mention the possibility of the person being unaware of the likely outcome, which is a key distinction between murder and culpable homicide.\n"
     ]
    }
   ],
   "source": [
    "query = \"What offence does a person commit if he/she causes death by doing an act with the intention of causing death.\"\n",
    "output = retrieve_answers(query)\n",
    "print(output)"
   ]
  },
  {
   "cell_type": "code",
   "execution_count": 17,
   "metadata": {},
   "outputs": [
    {
     "name": "stdout",
     "output_type": "stream",
     "text": [
      "[Document(page_content='297. Trespassing on burial places, etc.  \\n298. Uttering words, etc., with deliberate intent to wound the religious feelings.  \\n \\nCHAPTER XVI  \\nOF OFFENCESAFFECTINGTHE  HUMAN  BODY  \\n \\nOf offences affecting life  \\n299. Culpable homicide.  \\n300. Murder.  \\nWhen culpable homicide is not murder.  \\n301. Culpable homicide by causing death of person other than person whose death was intended.  \\n302. Punishment for murder.  \\n303. Punishment for murder by life -convict.  \\n304. Punishment for culpable homicide not amounting to murder.  \\n304A. Causing death by negligence.  \\n304B. Dowry death.  \\n305. Abetment of suicide of child or insane person.  \\n306. Abetment of suicide.  \\n307. Attempt to murder.  \\nAttempts by life -convicts.  \\n308. Attempt to commit culpable hom icide.', metadata={'page': 7.0, 'source': 'Files\\\\IPC_186045.pdf'}), Document(page_content=\"308. Attempt to commit culpable hom icide.  \\n309. Attempt to commit suicide.  \\n310. Thug.  \\n311. Punishment.  \\nOf the causing of Miscarriage, of Injuries to unborn Children, of the Exposure of Infants,  \\nand of the concealment of Births  \\n  \\n312. Causing miscarriage.  \\n313. Causing miscarriage without woman's consent.\", metadata={'page': 7.0, 'source': 'Files\\\\IPC_186045.pdf'})]\n",
      " 299. The page number of culpable homicide is 299. 299. Culpable homicide.  Helped by:- Author:- Not Found. Source:- IPC.  Date:- 12/02/2023.  Type:- Other.  Source: IPC.  Helped by:- Author:- Not Found. Source:- IPC.  Date:- 12/02/2023.  Type:- Other.  Source: IPC.  Helped by:- Author:- Not Found. Source:- IPC.  Date:- 12/02/2023.  Type:- Other.  Source: IPC.  Helped by:- Author:- Not Found. Source:- IPC.  Date:- 12/02/2023.  Type:- Other.  Source: IPC.  Helped by:- Author:- Not Found. Source:- IPC.  Date:- 12/02/2023.  Type:- Other.  Source: IPC.  Helped by:- Author:- Not Found. Source:- IPC.  Date:- 12/02/2023.  Type:- Other.  Source: IPC.  Helped by:- Author:- Not Found. Source:- IPC.  Date:- 12/02/2023.  Type:- Other.  Source: IPC.  Helped by:- Author:- Not Found. Source:- IPC.  Date:- 12/02/2023.  Type:- Other.  Source: IPC.  Helped by:- Author:- Not Found. Source:- IPC.  Date:- 12/02/2023.  Type:- Other.  Source: IPC.  Helped by:- Author:- Not Found. Source:- IPC.  Date:- 12/02/2023.  Type:- Other.  Source: IPC.  Helped by:- Author:- Not Found. Source:- IPC.  Date:- 12/02/2023.  Type:- Other.  Source: IPC.  Helped by:- Author:- Not Found. Source:- IPC.  Date:- 12/02/2023.  Type:- Other.  Source: IPC.  Helped by:- Author:- Not Found. Source:- IPC.  Date:- 12/02/2023.  Type:- Other.  Source: IPC.  Helped by:- Author:- Not Found. Source:- IPC.  Date:- 12/02/2023.  Type:- Other.  Source: IPC.\n"
     ]
    }
   ],
   "source": [
    "query = \"Page number of cupable homicide mentioned?\"\n",
    "output = retrieve_answers(query)\n",
    "print(output)"
   ]
  },
  {
   "cell_type": "code",
   "execution_count": null,
   "metadata": {},
   "outputs": [],
   "source": []
  }
 ],
 "metadata": {
  "kernelspec": {
   "display_name": "venv",
   "language": "python",
   "name": "python3"
  },
  "language_info": {
   "codemirror_mode": {
    "name": "ipython",
    "version": 3
   },
   "file_extension": ".py",
   "mimetype": "text/x-python",
   "name": "python",
   "nbconvert_exporter": "python",
   "pygments_lexer": "ipython3",
   "version": "3.10.11"
  }
 },
 "nbformat": 4,
 "nbformat_minor": 2
}
